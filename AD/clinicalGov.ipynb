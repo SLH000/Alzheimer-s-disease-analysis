{
 "cells": [
  {
   "cell_type": "markdown",
   "metadata": {},
   "source": [
    "# Alzeimer's Disease Clinical Trials"
   ]
  },
  {
   "cell_type": "markdown",
   "metadata": {},
   "source": [
    "## Import Library "
   ]
  },
  {
   "cell_type": "code",
   "execution_count": 4,
   "metadata": {},
   "outputs": [],
   "source": [
    "## Import Library \n",
    "import json\n",
    "import pandas as pd\n",
    "import os\n",
    "import streamlit as st\n",
    "import plotly.express as px\n",
    "import seaborn as sns"
   ]
  },
  {
   "cell_type": "markdown",
   "metadata": {},
   "source": [
    "## Data scripting from Clinical trial.gov"
   ]
  },
  {
   "cell_type": "code",
   "execution_count": 2,
   "metadata": {},
   "outputs": [],
   "source": [
    "# Initialize a list to collect data\n",
    "data_list = []"
   ]
  },
  {
   "cell_type": "code",
   "execution_count": 4,
   "metadata": {},
   "outputs": [],
   "source": [
    "#Loop through each JSON file in the current directory\n",
    "for filename in os.listdir(os.getcwd()):\n",
    "    if filename.endswith(\".json\"):\n",
    "        file_path = os.path.join(os.getcwd(), filename)\n",
    "        with open(file_path, 'r', encoding='utf-8') as file:\n",
    "            data = json.load(file)\n",
    "            id_module = data['protocolSection']['identificationModule']\n",
    "            desc_module = data['protocolSection']['descriptionModule']\n",
    "            contacts_locations_module = data['protocolSection'].get('contactsLocationsModule', {})\n",
    "            sponsor_module = data['protocolSection'].get('sponsorCollaboratorsModule', {})\n",
    "            responsible_party = sponsor_module.get('responsibleParty', {})\n",
    "            additional_pi_section = data.get('additionalPISection', [{}])\n",
    "\n",
    "            # Extract required data from JSON file\n",
    "            nct_id = id_module.get(\"nctId\", \"\")\n",
    "            detailed_description = desc_module.get(\"detailedDescription\", \"\")\n",
    "\n",
    "            # Extracting PI information from various sections\n",
    "            overall_officials = contacts_locations_module.get(\"overallOfficials\", [])\n",
    "            if overall_officials:\n",
    "                pi_info = overall_officials[0]\n",
    "                pi = pi_info.get(\"name\", \"\")\n",
    "                role = pi_info.get(\"role\", \"\")\n",
    "                affiliation = pi_info.get(\"affiliation\", \"\")\n",
    "            elif responsible_party:\n",
    "                pi = responsible_party.get(\"investigatorFullName\", \"\")\n",
    "                role = responsible_party.get(\"investigatorTitle\", \"\")\n",
    "                affiliation = responsible_party.get(\"investigatorAffiliation\", \"\")\n",
    "            elif additional_pi_section:\n",
    "                pi_info = additional_pi_section[0]\n",
    "                pi = pi_info.get(\"name\", \"\")\n",
    "                affiliation = pi_info.get(\"affiliation\", \"\")\n",
    "                role = \"\"\n",
    "# Append the processed data to the list\n",
    "            data_list.append({\n",
    "                \"nct_id\": nct_id,\n",
    "                \"detailed_description\": detailed_description,\n",
    "                \"pi\": pi,\n",
    "                \"role\": role,\n",
    "                \"affiliation\": affiliation\n",
    "            })\n",
    "\n",
    "            # Convert the list of dictionaries to a DataFrame\n",
    "            df_json = pd.DataFrame(data_list)\n",
    "\n",
    "            csv_file = \"ctg-studies.csv\"\n",
    "            df_csv = pd.read_csv(csv_file)\n",
    "            df_csv.rename(columns={'NCT Number': 'nct_id'}, inplace=True)\n",
    "\n",
    "            # Merge the DataFrames\n",
    "            merged_df = pd.merge(df_json, df_csv, on='nct_id', how='left')\n",
    "\n",
    "            # Save the merged DataFrame to an Excel file\n",
    "            merged_df.to_excel(\"merged_output.xlsx\", index=False)"
   ]
  },
  {
   "cell_type": "markdown",
   "metadata": {},
   "source": [
    "## Data processing "
   ]
  },
  {
   "cell_type": "code",
   "execution_count": null,
   "metadata": {},
   "outputs": [],
   "source": [
    "file_path = 'merged_output.xlsx'\n",
    "df_merged = pd.read_excel(file_path)"
   ]
  },
  {
   "cell_type": "markdown",
   "metadata": {},
   "source": [
    "### Data Cleaning "
   ]
  },
  {
   "cell_type": "code",
   "execution_count": null,
   "metadata": {},
   "outputs": [],
   "source": [
    "cleaned_df = df_merged.dropna(subset=['Phases','Sponsor','Start Date','affiliation', 'pi'])\n",
    "cleaned_df = cleaned_df[(cleaned_df['Study Status']!= 'WITHDRAWN')]\n",
    "# Convert the 'Start Date' column to datetime format\n",
    "cleaned_df['Start Date'] = pd.to_datetime(cleaned_df['Start Date'], errors='coerce')\n",
    "cleaned_df['Start Year'] = cleaned_df['Start Date'].dt.year\n",
    "# Convert the 'Primary Completion Date' column to datetime format\n",
    "cleaned_df['Primary Completion Date'] = pd.to_datetime(cleaned_df['Start Date'], errors='coerce')\n",
    "cleaned_df['Completion Year'] = cleaned_df['Primary Completion Date'].dt.year"
   ]
  },
  {
   "cell_type": "markdown",
   "metadata": {},
   "source": [
    "### Dashboard"
   ]
  },
  {
   "cell_type": "code",
   "execution_count": null,
   "metadata": {},
   "outputs": [],
   "source": [
    "import pandas as pd\n",
    "import streamlit as st\n",
    "import plotly.express as px\n",
    "import matplotlib.pyplot as plt\n",
    "import seaborn as sns\n",
    "\n",
    "file_path = 'merged_output.xlsx'\n",
    "df_merged = pd.read_excel(file_path)\n",
    "\n",
    "cleaned_df = df_merged.dropna(subset=['Phases','Sponsor','Start Date','affiliation', 'pi'])\n",
    "cleaned_df = cleaned_df[(cleaned_df['Study Status']!= 'WITHDRAWN')]\n",
    "# Convert the 'Start Date' column to datetime format\n",
    "cleaned_df['Start Date'] = pd.to_datetime(cleaned_df['Start Date'], errors='coerce')\n",
    "cleaned_df['Start Year'] = cleaned_df['Start Date'].dt.year\n",
    "# Convert the 'Primary Completion Date' column to datetime format\n",
    "cleaned_df['Primary Completion Date'] = pd.to_datetime(cleaned_df['Start Date'], errors='coerce')\n",
    "cleaned_df['Completion Year'] = cleaned_df['Primary Completion Date'].dt.year\n",
    "\n",
    "# Page config\n",
    "st.set_page_config(\n",
    "    page_title=\"AD clinical Trial Dashboard\",\n",
    "    page_icon= \":bar_chart\",\n",
    "    layout=\"wide\",\n",
    ")\n",
    "# Title of the dashboard\n",
    "st.title(\"Alzheimer's Diasease Clinical Trial Dashboard\")\n",
    "st.markdown('## Insight into Industry-Sponsored Alzheimers Disease Trials')\n",
    "\n",
    "# Slidebar for filtering Start Year\n",
    "st.sidebar.title(\"Filter by Year Range\")\n",
    "year_range = st.slider(\n",
    "    \"Select Year Range\",\n",
    "    min_value= int(cleaned_df['Start Year'].min()),\n",
    "    max_value= int(cleaned_df['Start Year'].max()),\n",
    "    value=(2010, 2030)\n",
    ")\n",
    "# Filter the for study start year\n",
    "df_start = cleaned_df[(cleaned_df['Start Year'] >= year_range[0]) & (cleaned_df['Start Year'] <= year_range[1])]\n",
    "grouped_start = df_start.groupby(['Start Year', 'Study Status']).size().reset_index(name='Count')\n",
    "\n",
    "st.subheader('Registered Clinical Trials by Year Started and Study Status')\n",
    "fig0, ax0 = plt.subplots(figsize=(10,6))\n",
    "sns.barplot(x='Start Year', y=\"Count\", hue= 'Study Status', \n",
    "            data=grouped_start, palette=\"Set2\", ax=ax0)\n",
    "ax0.set_xlabel('Year Started')\n",
    "ax0.set_ylabel('Number of Trials')\n",
    "ax0.set_title('Registered Trials by Year Started and Study Status')\n",
    "ax0.set_xticklabels(ax0.get_xticklabels(), rotation=45)\n",
    "ax0.legend(title='Study Status')\n",
    "# Display the plot in Streamlit\n",
    "st.pyplot(fig0)\n",
    "\n",
    "\n",
    "# Streamlit slider for selecting the year range\n",
    "st.subheader(\"Select Year Range for Completed Trials\")\n",
    "start_year, end_year = st.slider(\n",
    "    \"Select the range of years\", \n",
    "    min_value=2010, max_value=2030, \n",
    "    value=(2010, 2030)  \n",
    ")\n",
    "\n",
    "# Filter the data based on the selected year range\n",
    "df_complete = cleaned_df[(cleaned_df['Completion Year'] >= start_year) & \n",
    "                            (cleaned_df['Completion Year'] <= end_year)]\n",
    "\n",
    "# Count the number of trials in the Selected Year Range\n",
    "num_trials_complete = df_complete.shape[0]\n",
    "# Streamlit section to show the number of trials in the Selected Year Range\n",
    "st.subheader(\"Number of Trials complete in the Selected Year Range\")\n",
    "st.metric(label=\"Trials complete (Selected Year Range)\", value=num_trials_complete)\n",
    "\n",
    "\n",
    "# Plot 1: Pie Chart for Phases will complete in the Selected Year Range\n",
    "st.subheader(\"Phases Distribution of Trials complete in the Selected Year Range\")\n",
    "phase_counts = df_complete['Phases'].value_counts()\n",
    "fig1, ax1 = plt.subplots()\n",
    "ax1.pie(phase_counts, labels=phase_counts.index, autopct='%1.1f%%', startangle=90)\n",
    "ax1.axis('equal')\n",
    "st.pyplot(fig1)\n",
    "\n",
    "\n",
    "# Plot 2: Bar Chart for Sponsor vs. Phases (complete in the Selected Year Range)\n",
    "st.subheader(\"Sponsor vs. Phases of Trials Complete in the Selected Year Range\")\n",
    "sponsor_phase_counts = df_complete.groupby(['Sponsor', 'Phases']).size().reset_index(name='Counts')\n",
    "fig2 = px.bar(sponsor_phase_counts, x='Sponsor', y='Counts', color='Phases', barmode='group',\n",
    "            title=\"Number of Studies per Sponsor by Phases\")\n",
    "st.plotly_chart(fig2)\n",
    "\n",
    "# Plot3: Bar Chart for Conditions \n",
    "st.subheader(\"Trials by Condition (complete in the Selected Year Range)\")\n",
    "condition_counts = df_complete.groupby('Conditions').size().reset_index(name='Counts')\n",
    "fig3 = px.bar(condition_counts, x='Conditions', y='Counts',\n",
    "            title=\"Number of Studies per Condition\")\n",
    "st.plotly_chart(fig3)\n",
    "\n",
    "\n",
    "# New Plot 4: Number of Studies Expected to Complete in the Selected Year Range\n",
    "st.subheader(\"Number of Studies Expected to Complete in the Selected Year Range\")\n",
    "\n",
    "# Group by year and sponsor\n",
    "date_grouped_df = df_complete.groupby(['Completion Year', 'Sponsor']).size().reset_index(name='Count')\n",
    "\n",
    "# Create a bar chart using Plotly\n",
    "fig4 = px.bar(date_grouped_df, \n",
    "              x='Completion Year', \n",
    "              y='Count', \n",
    "              color='Sponsor', \n",
    "              barmode='group',\n",
    "              title=\"Studies Expected to Complete in the Selected Year Range by Sponsor\"\n",
    "              )\n",
    "\n",
    "st.plotly_chart(fig4)\n",
    "\n",
    "# Footer\n",
    "st.write(\"### Data Source: https://clinicaltrials.gov\")"
   ]
  }
 ],
 "metadata": {
  "kernelspec": {
   "display_name": "base",
   "language": "python",
   "name": "python3"
  },
  "language_info": {
   "codemirror_mode": {
    "name": "ipython",
    "version": 3
   },
   "file_extension": ".py",
   "mimetype": "text/x-python",
   "name": "python",
   "nbconvert_exporter": "python",
   "pygments_lexer": "ipython3",
   "version": "3.9.13"
  }
 },
 "nbformat": 4,
 "nbformat_minor": 2
}
