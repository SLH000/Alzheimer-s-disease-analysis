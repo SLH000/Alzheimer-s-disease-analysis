{
 "cells": [
  {
   "cell_type": "markdown",
   "metadata": {},
   "source": [
    "# Alzeimer's Disease Clinical Trials"
   ]
  },
  {
   "cell_type": "markdown",
   "metadata": {},
   "source": [
    "## Import Library "
   ]
  },
  {
   "cell_type": "code",
   "execution_count": 4,
   "metadata": {},
   "outputs": [],
   "source": [
    "## Import Library \n",
    "import json\n",
    "import pandas as pd\n",
    "import os\n",
    "import streamlit as st\n",
    "import plotly.express as px\n",
    "import matplotlib.pyplot as plt"
   ]
  },
  {
   "cell_type": "markdown",
   "metadata": {},
   "source": [
    "## Data scripting from Clinical trial.gov"
   ]
  },
  {
   "cell_type": "code",
   "execution_count": 2,
   "metadata": {},
   "outputs": [],
   "source": [
    "# Initialize a list to collect data\n",
    "data_list = []"
   ]
  },
  {
   "cell_type": "code",
   "execution_count": 4,
   "metadata": {},
   "outputs": [],
   "source": [
    "#Loop through each JSON file in the current directory\n",
    "for filename in os.listdir(os.getcwd()):\n",
    "    if filename.endswith(\".json\"):\n",
    "        file_path = os.path.join(os.getcwd(), filename)\n",
    "        with open(file_path, 'r', encoding='utf-8') as file:\n",
    "            data = json.load(file)\n",
    "            id_module = data['protocolSection']['identificationModule']\n",
    "            desc_module = data['protocolSection']['descriptionModule']\n",
    "            contacts_locations_module = data['protocolSection'].get('contactsLocationsModule', {})\n",
    "            sponsor_module = data['protocolSection'].get('sponsorCollaboratorsModule', {})\n",
    "            responsible_party = sponsor_module.get('responsibleParty', {})\n",
    "            additional_pi_section = data.get('additionalPISection', [{}])\n",
    "\n",
    "            # Extract required data from JSON file\n",
    "            nct_id = id_module.get(\"nctId\", \"\")\n",
    "            detailed_description = desc_module.get(\"detailedDescription\", \"\")\n",
    "\n",
    "            # Extracting PI information from various sections\n",
    "            overall_officials = contacts_locations_module.get(\"overallOfficials\", [])\n",
    "            if overall_officials:\n",
    "                pi_info = overall_officials[0]\n",
    "                pi = pi_info.get(\"name\", \"\")\n",
    "                role = pi_info.get(\"role\", \"\")\n",
    "                affiliation = pi_info.get(\"affiliation\", \"\")\n",
    "            elif responsible_party:\n",
    "                pi = responsible_party.get(\"investigatorFullName\", \"\")\n",
    "                role = responsible_party.get(\"investigatorTitle\", \"\")\n",
    "                affiliation = responsible_party.get(\"investigatorAffiliation\", \"\")\n",
    "            elif additional_pi_section:\n",
    "                pi_info = additional_pi_section[0]\n",
    "                pi = pi_info.get(\"name\", \"\")\n",
    "                affiliation = pi_info.get(\"affiliation\", \"\")\n",
    "                role = \"\"\n",
    "# Append the processed data to the list\n",
    "            data_list.append({\n",
    "                \"nct_id\": nct_id,\n",
    "                \"detailed_description\": detailed_description,\n",
    "                \"pi\": pi,\n",
    "                \"role\": role,\n",
    "                \"affiliation\": affiliation\n",
    "            })\n",
    "\n",
    "            # Convert the list of dictionaries to a DataFrame\n",
    "            df_json = pd.DataFrame(data_list)\n",
    "\n",
    "            csv_file = \"ctg-studies.csv\"\n",
    "            df_csv = pd.read_csv(csv_file)\n",
    "            df_csv.rename(columns={'NCT Number': 'nct_id'}, inplace=True)\n",
    "\n",
    "            # Merge the DataFrames\n",
    "            merged_df = pd.merge(df_json, df_csv, on='nct_id', how='left')\n",
    "\n",
    "            # Save the merged DataFrame to an Excel file\n",
    "            merged_df.to_excel(\"merged_output.xlsx\", index=False)"
   ]
  },
  {
   "cell_type": "markdown",
   "metadata": {},
   "source": [
    "## Data processing "
   ]
  },
  {
   "cell_type": "code",
   "execution_count": null,
   "metadata": {},
   "outputs": [],
   "source": [
    "file_path = 'merged_output.xlsx'\n",
    "df_merged = pd.read_excel(file_path)"
   ]
  },
  {
   "cell_type": "markdown",
   "metadata": {},
   "source": [
    "### Data Cleaning "
   ]
  },
  {
   "cell_type": "code",
   "execution_count": null,
   "metadata": {},
   "outputs": [],
   "source": [
    "cleaned_df = df_merged.dropna(subset=['Phases','Sponsor','Start Date','affiliation', 'pi'])\n",
    "cleaned_df"
   ]
  },
  {
   "cell_type": "code",
   "execution_count": null,
   "metadata": {},
   "outputs": [],
   "source": [
    "# Convert the 'Start Date' column to datetime format\n",
    "cleaned_df['Start Date'] = pd.to_datetime(cleaned_df['Start Date'], errors='coerce')\n",
    "# Convert the 'Primary Completion Date' column to datetime format\n",
    "cleaned_df['Primary Completion Date'] = pd.to_datetime(cleaned_df['Start Date'], errors='coerce')\n",
    "cleaned_df['Completion Year'] = cleaned_df['Primary Completion Date'].dt.year\n",
    "\n",
    "# Phase 2-4 industry sponsered study completed in 2024 to 2027\n",
    "df_selected = cleaned_df[(cleaned_df['Funder Type'].str.upper() == 'INDUSTRY') &\n",
    "                        (cleaned_df['Phases'].isin(['PHASE2', 'PHASE3','PHASE4']))&\n",
    "                        (cleaned_df['Study Status']!= 'WITHDRAWN')\n",
    "                        ]\n",
    "\n",
    "df_selectedC = df_selected.dropna(axis=1, how='all')\n",
    "df_selectedC"
   ]
  },
  {
   "cell_type": "code",
   "execution_count": null,
   "metadata": {},
   "outputs": [],
   "source": [
    "df_selectedC = df_selectedC.sort_values(by='Primary Completion Date', ascending=True)\n",
    "df_selectedC"
   ]
  },
  {
   "cell_type": "markdown",
   "metadata": {},
   "source": [
    "### Dashboard"
   ]
  },
  {
   "cell_type": "code",
   "execution_count": null,
   "metadata": {},
   "outputs": [],
   "source": [
    "\n",
    "# Title of the dashboard\n",
    "st.title(\"AD Clinical Trial Dashboard\")\n",
    "\n",
    "# Filter the data for studies complete in 2023-2034\n",
    "trials_2023_2034 = df_selectedC[(df_selectedC['Completion Date'] >= '2023-01-01') & (df_selectedC['Completion Date'] <= '2034-12-31')]\n",
    "\n",
    "# Count the number of trials in 2023-2034\n",
    "num_trials_2023_2034 = trials_2023_2034.shape[0]\n",
    "\n",
    "# Streamlit section to show the number of trials from 2023-2034\n",
    "st.subheader(\"Number of Trials complete in 2023-2034\")\n",
    "st.metric(label=\"Trials complete (2023-2030)\", value=num_trials_2023_2034)\n",
    "\n",
    "# Plot 1: Pie Chart for Phases will complete in 2023-2034\n",
    "st.subheader(\"Phases Distribution of Trials complete in 2023-2034\")\n",
    "phase_counts = trials_2023_2034['Phases'].value_counts()\n",
    "fig1, ax1 = plt.subplots()\n",
    "ax1.pie(phase_counts, labels=phase_counts.index, autopct='%1.1f%%', startangle=90)\n",
    "ax1.axis('equal')\n",
    "st.pyplot(fig1)\n",
    "\n",
    "# Plot 2: Bar Chart for Sponsor vs. Phases (complete in 2023-2034)\n",
    "st.subheader(\"Sponsor vs. Phases of Trials Complete in 2023-2034\")\n",
    "sponsor_phase_counts = trials_2023_2034.groupby(['Sponsor', 'Phases']).size().reset_index(name='Counts')\n",
    "fig2 = px.bar(sponsor_phase_counts, x='Sponsor', y='Counts', color='Phases', barmode='group',\n",
    "              title=\"Number of Studies per Sponsor by Phases\")\n",
    "st.plotly_chart(fig2)\n",
    "\n",
    "# Plot3: Bar Chart for Conditions \n",
    "st.subheader(\"Trials by Condition (complete in 2023-2034)\")\n",
    "condition_counts = trials_2023_2034.groupby('Conditions').size().reset_index(name='Counts')\n",
    "fig3 = px.bar(condition_counts, x='Conditions', y='Counts',\n",
    "              title=\"Number of Studies per Condition\")\n",
    "st.plotly_chart(fig3)\n",
    "\n",
    "# New Plot 4: Number of Studies Expected to Complete Between 2023 and 2034\n",
    "st.subheader(\"Number of Studies Expected to Complete Between 2023 and 2034\")\n",
    "\n",
    "# Group by year and sponsor\n",
    "date_grouped_df = trials_2023_2034.groupby(['Completion Year', 'Sponsor']).size().reset_index(name='Count')\n",
    "\n",
    "# Create a bar chart using Plotly\n",
    "fig4 = px.bar(date_grouped_df, x='Completion Year', y='Count', color='Sponsor', barmode='group',\n",
    "              title=\"Studies Expected to Complete Between 2023 and 2034 by Sponsor\")\n",
    "\n",
    "st.plotly_chart(fig4)\n",
    "\n",
    "# Footer\n",
    "st.write(\"### Data Source: https://clinicaltrials.gov\")"
   ]
  }
 ],
 "metadata": {
  "kernelspec": {
   "display_name": "base",
   "language": "python",
   "name": "python3"
  },
  "language_info": {
   "codemirror_mode": {
    "name": "ipython",
    "version": 3
   },
   "file_extension": ".py",
   "mimetype": "text/x-python",
   "name": "python",
   "nbconvert_exporter": "python",
   "pygments_lexer": "ipython3",
   "version": "3.9.13"
  }
 },
 "nbformat": 4,
 "nbformat_minor": 2
}
